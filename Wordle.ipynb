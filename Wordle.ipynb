{
 "cells": [
  {
   "cell_type": "markdown",
   "id": "8933dfa7-3d2c-4a41-a4da-1a4e2130d36f",
   "metadata": {
    "id": "8933dfa7-3d2c-4a41-a4da-1a4e2130d36f"
   },
   "source": [
    "# Recreating Wordle\n",
    "\n",
    "![](https://media.giphy.com/media/2svZygifdPzMHIhtw2/giphy.gif)"
   ]
  },
  {
   "cell_type": "markdown",
   "id": "43df78c8-28c2-482c-9840-74a173106796",
   "metadata": {
    "id": "43df78c8-28c2-482c-9840-74a173106796"
   },
   "source": [
    "## Introduction\n",
    "\n",
    "In today's LiveLab, you  be writing a fully functioning Wordle game! Unlike the New York Time's app, this version can be played as many times as you'd like in a single day!\n",
    "\n",
    "## Wordle Overview\n",
    "\n",
    "The premise of the game is fairly simple. A user has 6 attempts to guess a 5-letter word. For each attempt, they are told which letters (if any) are part of the correct word.\n",
    "\n",
    "![](https://epe.brightspotcdn.com/dims4/default/29f18bd/2147483647/strip/true/crop/1695x1150+13+0/resize/840x570!/quality/90/?url=https%3A%2F%2Fepe-brightspot.s3.amazonaws.com%2F63%2F28%2Fde4bad4f405ea84452275b46b7df%2Fwordle-02022022.jpg)\n",
    "\n",
    "Since we are using Python and not a front-end visual interface, we will use question marks (?) instead of the color yellow to let the user know that they have the right letter, but in the incorrect location. Maybe our Web Developer colleagues can help us desing a front end we can attach our code to 🤔"
   ]
  },
  {
   "cell_type": "markdown",
   "id": "221a86d3-28d6-49f1-877d-befaa4120963",
   "metadata": {
    "id": "221a86d3-28d6-49f1-877d-befaa4120963"
   },
   "source": [
    "## Algorithmic Thinking\n",
    "\n",
    "Here are the steps we need for our code to run properly.\n",
    "\n",
    "1. Randomly choose a 5-letter word\n",
    "2. Allow the player to input a five-letter guess\n",
    "3. Check if the input is valid  \n",
    "4. Check the guess against the secret word\n",
    "\n",
    "    * If the letter matches, fill it in\n",
    "\n",
    "    * If the letter is in the word but in the wrong spot, replace with a question mark \"?\"\n",
    "\n",
    "    * Otherwise, replace with an underscore \"_\"\n",
    "\n",
    "\n",
    "5. Decide when to end the game\n",
    "\n",
    "    * If the user guesses the correct word, end the game.\n",
    "\n",
    "    * If the user has had 6 incorrect attempts, end the game.\n",
    "\n",
    "    * Otherwise, let the user try again."
   ]
  },
  {
   "cell_type": "code",
   "execution_count": 1,
   "id": "e9e9b828-68b6-41e1-8e52-5cce804a1932",
   "metadata": {
    "id": "e9e9b828-68b6-41e1-8e52-5cce804a1932"
   },
   "outputs": [],
   "source": [
    "# import data & libraries needed\n",
    "import sys\n",
    "import random\n",
    "sys.path.append('./files')\n",
    "\n",
    "from wordle_words import word_list, valid_guesses, play_wordle_solution"
   ]
  },
  {
   "cell_type": "code",
   "execution_count": 2,
   "id": "aef42d99-448d-481b-b899-4bc85f0cca49",
   "metadata": {
    "id": "aef42d99-448d-481b-b899-4bc85f0cca49"
   },
   "outputs": [
    {
     "name": "stdout",
     "output_type": "stream",
     "text": [
      "['aback', 'abase', 'abate', 'abbey', 'abbot', 'abhor', 'abide', 'abled', 'abode', 'abort']\n",
      "['aahed', 'aalii', 'aargh', 'aarti', 'abaca', 'abaci', 'abacs', 'abaft', 'abaka', 'abamp']\n"
     ]
    }
   ],
   "source": [
    "# preview of word_list and valid_guesses\n",
    "print(word_list[:10])\n",
    "print(valid_guesses[:10])\n"
   ]
  },
  {
   "cell_type": "code",
   "execution_count": 3,
   "id": "24072922-8752-45bd-b792-c5e5643aedcb",
   "metadata": {
    "id": "24072922-8752-45bd-b792-c5e5643aedcb"
   },
   "outputs": [
    {
     "data": {
      "text/plain": [
       "12972"
      ]
     },
     "execution_count": 3,
     "metadata": {},
     "output_type": "execute_result"
    }
   ],
   "source": [
    "len(valid_guesses)"
   ]
  },
  {
   "cell_type": "markdown",
   "id": "fe127f5c-f7e6-4d41-aa6a-559628828efe",
   "metadata": {
    "id": "fe127f5c-f7e6-4d41-aa6a-559628828efe"
   },
   "source": [
    "# Wordle Functions\n",
    "\n",
    "## Get Guess from User\n",
    "\n",
    "An essential component to playing Wordle, is the ability for a user to input a word! In the original game, not every 5-letter combination is a valid response. For example, Wordle will not accept the word `AAAAA` as valid input. Thus, our code should also disregard these \"non-words\".\n",
    "\n",
    "In the function does the following series of steps:\n",
    "\n",
    "* Get `input` from the user.\n",
    "* Check if the given word is a \"valid\" word.\n",
    "  * If the word is valid, `return` that word\n",
    "  * If not, the code should continue to ask the user for input until a valid word is received."
   ]
  },
  {
   "cell_type": "code",
   "execution_count": 4,
   "id": "6aea71b7-3f0f-400d-beca-4871ab7fd754",
   "metadata": {
    "id": "6aea71b7-3f0f-400d-beca-4871ab7fd754"
   },
   "outputs": [],
   "source": [
    "def get_user_guess(valid_guesses):\n",
    "    '''\n",
    "    Function that gets the guess from the user.\n",
    "    Code checks that the word is in the list of `valid_guesses`\n",
    "    If not in list, ask user for new word.\n",
    "    Returns the word in lowercase.\n",
    "    '''\n",
    "\n",
    "    # get user input. Convert to lowercase\n",
    "    guess = input('Enter your guess: ')\n",
    "    guess = guess.lower()\n",
    "\n",
    "    # loop to check that guess is valid\n",
    "    while guess not in valid_guesses:\n",
    "        print('Please enter a valid 5-letter word')\n",
    "        guess = input('Enter your guess: ')\n",
    "        guess = guess.lower()\n",
    "\n",
    "    return guess"
   ]
  },
  {
   "cell_type": "markdown",
   "id": "a01f78c4-db3a-4090-b345-9868cc548d62",
   "metadata": {
    "id": "a01f78c4-db3a-4090-b345-9868cc548d62"
   },
   "source": [
    "## Updating User Progress\n",
    "\n",
    "The `update_progress` function checks if the word is correct and updates the game. In short, it provides the user with a visual reference of how they are performing in each round of the game.\n",
    "\n",
    "Using the Wordle image from above, the game would go as follows:\n",
    "\n",
    "`word_to_guess: TEACH`\n",
    "\n",
    "`user_guess: CROWN`\n",
    "\n",
    "Progress Update:\n",
    "`?_____` (the C is correct but in the wrong spot. All the other letters are not in the word)\n",
    "\n",
    "`user_guess: PACED`\n",
    "\n",
    "Progress Update:\n",
    "`_???_` (A, C, & E are all in the word but in the wrong spot. All other letters are not in the word)\n",
    "\n",
    "`user_guess: ENACT`\n",
    "\n",
    "Progress Update:\n",
    "`?_AC?` (A & C are in the right spot, T & E are in the incorrect spot. N is not in the word).\n"
   ]
  },
  {
   "cell_type": "code",
   "execution_count": 5,
   "id": "21103be7-a965-4265-86d1-bcb623604913",
   "metadata": {
    "id": "21103be7-a965-4265-86d1-bcb623604913"
   },
   "outputs": [],
   "source": [
    "def update_progress(guess, word_to_guess):\n",
    "    '''\n",
    "    Function that updates the progress of the Wordle game.\n",
    "    For each letter in the word do the following:\n",
    "    -- If letter is in the correct spot, fill with that letter.\n",
    "    -- If letter is correct but not in the right spot, fill with a \"?\"\n",
    "    -- If letter is not part of the word, fill with a \"_\"\n",
    "\n",
    "    e.g.\n",
    "    word to guess: \"table\"\n",
    "    user guess:    \"facet\"\n",
    "    output:        \"_a_??\"\n",
    "    '''\n",
    "\n",
    "    progress = ''\n",
    "    word_length = len(guess)\n",
    "\n",
    "    for i in range(word_length):\n",
    "        if guess[i] == word_to_guess[i]:\n",
    "            progress += guess[i]\n",
    "        elif guess[i] in word_to_guess and guess.count(guess[i]) <= word_to_guess.count(guess[i]):\n",
    "            progress += '?'\n",
    "        else:\n",
    "            progress += '_'\n",
    "\n",
    "    return progress"
   ]
  },
  {
   "cell_type": "markdown",
   "id": "b82b74e1-ce2c-4fa0-85b6-dc0c34b26366",
   "metadata": {
    "id": "b82b74e1-ce2c-4fa0-85b6-dc0c34b26366"
   },
   "source": [
    "## The Wordle Game\n"
   ]
  },
  {
   "cell_type": "code",
   "execution_count": 13,
   "id": "d485ea46-4bbf-47fc-968e-8682734359bb",
   "metadata": {
    "id": "d485ea46-4bbf-47fc-968e-8682734359bb"
   },
   "outputs": [],
   "source": [
    "def play_wordle(word_list, valid_guesses):\n",
    "\n",
    "\n",
    "    # Initialize variables\n",
    "    attempts = 0\n",
    "    guessed_correctly = False\n",
    "\n",
    "    # Choose a random word from the word_list\n",
    "    # store it in a variable `word_to_guess`\n",
    "\n",
    "    word_to_guess = random.choice(word_list)\n",
    "\n",
    "    ## FOR DEBUGGING PURPOSES ONLY ##\n",
    "    # print the chosen word to ensure the code works as expected.\n",
    "    # comment out the print statement below once your code is working correctly.\n",
    "    # print(f'The chosen word is {word_to_guess}')\n",
    "\n",
    "\n",
    "    # Play game!\n",
    "    while attempts < 6 and not guessed_correctly:\n",
    "\n",
    "        guess = get_user_guess(valid_guesses)\n",
    "\n",
    "        # check if guess matches the word_to_guess\n",
    "        if guess == word_to_guess:\n",
    "            guessed_correctly = True\n",
    "        else:\n",
    "            # else, update the progress of the game and print the progress to the screen\n",
    "            progress = update_progress(guess, word_to_guess)\n",
    "            print(progress)\n",
    "            # update number of attempts\n",
    "            attempts += 1\n",
    "\n",
    "    # this section is after the loop has finished. The player has either solved the Wordle, or ran out of guesses.\n",
    "    if guessed_correctly:\n",
    "        print(\"Congratulations! You've guessed the word correctly.\")\n",
    "    else:\n",
    "        print(f\"The correct word was {word_to_guess}. Try again!\")\n",
    "\n"
   ]
  },
  {
   "cell_type": "markdown",
   "id": "oicmMuIlp_BU",
   "metadata": {
    "id": "oicmMuIlp_BU"
   },
   "source": [
    "### Play your Wordle game!\n",
    "Once you finish your code in the cell above, it's time to play your game! You can also run this cell to help you debug the `play_wordle` function as you work."
   ]
  },
  {
   "cell_type": "code",
   "execution_count": null,
   "id": "8a304e6a-abea-4c03-a887-bfe404aa3cb5",
   "metadata": {
    "id": "8a304e6a-abea-4c03-a887-bfe404aa3cb5"
   },
   "outputs": [],
   "source": [
    "play_wordle(word_list, valid_guesses)"
   ]
  },
  {
   "cell_type": "code",
   "execution_count": null,
   "id": "b733bc8c-9b01-4408-a82b-686f95d4d1de",
   "metadata": {},
   "outputs": [],
   "source": []
  }
 ],
 "metadata": {
  "colab": {
   "provenance": []
  },
  "kernelspec": {
   "display_name": "Python 3 (ipykernel)",
   "language": "python",
   "name": "python3"
  },
  "language_info": {
   "codemirror_mode": {
    "name": "ipython",
    "version": 3
   },
   "file_extension": ".py",
   "mimetype": "text/x-python",
   "name": "python",
   "nbconvert_exporter": "python",
   "pygments_lexer": "ipython3",
   "version": "3.10.6"
  }
 },
 "nbformat": 4,
 "nbformat_minor": 5
}
